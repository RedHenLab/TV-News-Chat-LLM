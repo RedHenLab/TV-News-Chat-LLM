{
  "metadata": {
    "kernelspec": {
      "display_name": "Python 3",
      "name": "python3"
    },
    "language_info": {
      "name": "python",
      "version": "3.10.13",
      "mimetype": "text/x-python",
      "codemirror_mode": {
        "name": "ipython",
        "version": 3
      },
      "pygments_lexer": "ipython3",
      "nbconvert_exporter": "python",
      "file_extension": ".py"
    },
    "kaggle": {
      "accelerator": "nvidiaTeslaT4",
      "dataSources": [],
      "dockerImageVersionId": 30699,
      "isInternetEnabled": true,
      "language": "python",
      "sourceType": "notebook",
      "isGpuEnabled": true
    },
    "colab": {
      "provenance": [],
      "machine_shape": "hm",
      "gpuType": "A100"
    },
    "accelerator": "GPU"
  },
  "nbformat_minor": 0,
  "nbformat": 4,
  "cells": [
    {
      "cell_type": "code",
      "source": [
        "!pip install vllm\n",
        "!pip install transformers\n",
        "!pip install xformers accelerate bitsandbytes"
      ],
      "metadata": {
        "_uuid": "8f2839f25d086af736a60e9eeb907d3b93b6e0e5",
        "_cell_guid": "b1076dfc-b9ad-4769-8c92-a6c4dae69d19",
        "trusted": true,
        "id": "QvWjBAZ2VzgW"
      },
      "execution_count": null,
      "outputs": []
    },
    {
      "cell_type": "code",
      "source": [
        "from vllm import LLM, SamplingParams"
      ],
      "metadata": {
        "trusted": true,
        "id": "wRrno79PVzgY"
      },
      "execution_count": 2,
      "outputs": []
    },
    {
      "cell_type": "code",
      "source": [
        "model_name = \"lucifertrj/redhen-lab-news-chat-3b\""
      ],
      "metadata": {
        "trusted": true,
        "id": "lMcYaaL3VzgY"
      },
      "execution_count": 3,
      "outputs": []
    },
    {
      "cell_type": "code",
      "source": [
        "def get_prompt(user_question):\n",
        "    template = f\"\"\"\n",
        "    <|user|>\n",
        "    {user_question}\n",
        "    <|end|>\n",
        "    <|assistant|>\n",
        "    \"\"\"\n",
        "    return template"
      ],
      "metadata": {
        "trusted": true,
        "id": "rEktsdfeVzgY"
      },
      "execution_count": 9,
      "outputs": []
    },
    {
      "cell_type": "code",
      "source": [
        "prompt1 = get_prompt(\"Why is Donald Trump not participating in the Fox News Republican debate?\")"
      ],
      "metadata": {
        "trusted": true,
        "id": "xMyJqswQVzgY"
      },
      "execution_count": 10,
      "outputs": []
    },
    {
      "cell_type": "code",
      "source": [
        "prompt2 = get_prompt(\"Why can't Germany put an end to the war in Syria?\")"
      ],
      "metadata": {
        "trusted": true,
        "id": "4icH96wKVzgZ"
      },
      "execution_count": 11,
      "outputs": []
    },
    {
      "cell_type": "code",
      "source": [
        "prompt3 = get_prompt(\"Why is Rick Santorum campaigning in Iowa and what is his goal?\")"
      ],
      "metadata": {
        "trusted": true,
        "id": "pEyc-79mVzgZ"
      },
      "execution_count": 12,
      "outputs": []
    },
    {
      "cell_type": "code",
      "source": [
        "import torch\n",
        "torch.cuda.empty_cache()"
      ],
      "metadata": {
        "execution": {
          "iopub.status.busy": "2024-05-19T19:30:02.159752Z",
          "iopub.execute_input": "2024-05-19T19:30:02.160693Z",
          "iopub.status.idle": "2024-05-19T19:30:03.792946Z",
          "shell.execute_reply.started": "2024-05-19T19:30:02.160655Z",
          "shell.execute_reply": "2024-05-19T19:30:03.791911Z"
        },
        "trusted": true,
        "id": "EW9Q9qufVzgZ"
      },
      "execution_count": 13,
      "outputs": []
    },
    {
      "cell_type": "code",
      "source": [
        "llm = LLM(model=model_name)"
      ],
      "metadata": {
        "trusted": true,
        "id": "lGUNEwSCVzgZ"
      },
      "execution_count": null,
      "outputs": []
    },
    {
      "cell_type": "code",
      "source": [
        "sampling_params = SamplingParams(temperature=0.1, top_p=0.95,repetition_penalty = 1.2,max_tokens=1000,skip_special_tokens=True)"
      ],
      "metadata": {
        "trusted": true,
        "id": "J2ralXjUVzgZ"
      },
      "execution_count": 14,
      "outputs": []
    },
    {
      "cell_type": "code",
      "source": [
        "prompts = [prompt1,prompt2,prompt3]"
      ],
      "metadata": {
        "trusted": true,
        "id": "egYB9KJhVzgZ"
      },
      "execution_count": 15,
      "outputs": []
    },
    {
      "cell_type": "code",
      "source": [
        "outputs = llm.generate(prompts, sampling_params)"
      ],
      "metadata": {
        "trusted": true,
        "id": "1DT9fX0xVzga",
        "colab": {
          "base_uri": "https://localhost:8080/"
        },
        "outputId": "257b094f-54db-4881-9771-e456109713d6"
      },
      "execution_count": 16,
      "outputs": [
        {
          "output_type": "stream",
          "name": "stderr",
          "text": [
            "Processed prompts: 100%|██████████| 3/3 [00:01<00:00,  2.80it/s, Generation Speed: 274.95 toks/s]\n"
          ]
        }
      ]
    },
    {
      "cell_type": "code",
      "source": [
        "print(outputs[0].outputs[0].text)"
      ],
      "metadata": {
        "colab": {
          "base_uri": "https://localhost:8080/"
        },
        "id": "TyrImuQK_uoJ",
        "outputId": "15c5dd02-cce1-4b48-91e1-f02bc85e726f"
      },
      "execution_count": 17,
      "outputs": [
        {
          "output_type": "stream",
          "name": "stdout",
          "text": [
            " The reason for this decision was that he felt it would be a waste of time and money. He also mentioned his preference to focus on other activities, such as golfing with friends or spending quality family time at home during Thanksgiving weekend. However, there were speculations about whether these reasons are genuine or if they might have been influenced by political motivations related to potential conflicts within the GOP primary race between him and Senator Ted Cruz from Texas.\n"
          ]
        }
      ]
    },
    {
      "cell_type": "code",
      "source": [
        "print(outputs[1].outputs[0].text)"
      ],
      "metadata": {
        "colab": {
          "base_uri": "https://localhost:8080/"
        },
        "id": "TS5PLAPc7L3G",
        "outputId": "c8cba94d-eeed-4bee-8f43-f0f569a4f83e"
      },
      "execution_count": 18,
      "outputs": [
        {
          "output_type": "stream",
          "name": "stdout",
          "text": [
            " The situation is complex and involves various factors. While it may seem like a straightforward decision, there are geopolitical considerations at play that make ending the conflict more challenging than simply declaring victory or defeat for one side. Additionally, international relations dynamics often require careful negotiation and diplomacy rather than unilateral actions by individual countries. It would be beneficial if you could provide some context on what specific aspect of this issue interests you so I can offer further insights.\n"
          ]
        }
      ]
    },
    {
      "cell_type": "code",
      "source": [
        "print(outputs[2].outputs[0].text)"
      ],
      "metadata": {
        "colab": {
          "base_uri": "https://localhost:8080/"
        },
        "id": "NvGp6DaB7Nfh",
        "outputId": "c5f94beb-b4f1-4c1f-9eb7-d4aa247913c0"
      },
      "execution_count": 19,
      "outputs": [
        {
          "output_type": "stream",
          "name": "stdout",
          "text": [
            " Rick Santorum, a Republican candidate for the presidential nomination of the party's conservative wing, has been actively campaigning in Iowa. His main objective is to win over voters who are undecided or lean towards him as their preferred choice among all candidates running against President Barack Obama next year. By focusing on these crucial states like Iowa, he hopes to secure enough support that will ultimately lead to victory at the national level during the upcoming election.\n"
          ]
        }
      ]
    }
  ]
}