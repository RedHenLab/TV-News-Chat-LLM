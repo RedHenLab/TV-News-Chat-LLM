{
  "nbformat": 4,
  "nbformat_minor": 0,
  "metadata": {
    "colab": {
      "provenance": [],
      "gpuType": "L4"
    },
    "kernelspec": {
      "name": "python3",
      "display_name": "Python 3"
    },
    "language_info": {
      "name": "python"
    },
    "accelerator": "GPU"
  },
  "cells": [
    {
      "cell_type": "code",
      "source": [
        "import torch\n",
        "from transformers import AutoTokenizer, AutoModelForCausalLM, set_seed"
      ],
      "metadata": {
        "id": "E_W6AQ86gtrW"
      },
      "execution_count": 10,
      "outputs": []
    },
    {
      "cell_type": "code",
      "source": [
        "model_name = \"RedHenLabs/news-reporter-3b\""
      ],
      "metadata": {
        "id": "JbNFU8Qobxb-"
      },
      "execution_count": 2,
      "outputs": []
    },
    {
      "cell_type": "code",
      "source": [
        "tokenizer = AutoTokenizer.from_pretrained(model_name,trust_remote_code=True)\n",
        "model = AutoModelForCausalLM.from_pretrained(model_name, trust_remote_code=True, torch_dtype=\"auto\", device_map=\"cuda\")"
      ],
      "metadata": {
        "id": "mWD5pzvCe1th"
      },
      "execution_count": null,
      "outputs": []
    },
    {
      "cell_type": "code",
      "source": [
        "from transformers import pipeline"
      ],
      "metadata": {
        "id": "Fs4fB6rTfTXR"
      },
      "execution_count": 4,
      "outputs": []
    },
    {
      "cell_type": "code",
      "source": [
        "pipe = pipeline(\"text-generation\", model=model, tokenizer=tokenizer)"
      ],
      "metadata": {
        "id": "b3PPAawte83H"
      },
      "execution_count": 5,
      "outputs": []
    },
    {
      "cell_type": "code",
      "source": [
        "def test_inference(prompt):\n",
        "    prefix = \"Generate a concise and accurate news summary based on the following question.\\n Input:\"\n",
        "    prompt = pipe.tokenizer.apply_chat_template([{\"role\": \"user\", \"content\": prefix+prompt}], tokenize=False, add_generation_prompt=True)\n",
        "    outputs = pipe(prompt, max_new_tokens=512, do_sample=True, num_beams=1, temperature=0.1, top_k=50, top_p=0.95,\n",
        "                   max_time= 180)\n",
        "    return outputs[0]['generated_text'][len(prompt):].strip()"
      ],
      "metadata": {
        "id": "wPt16cXzfSvm"
      },
      "execution_count": 15,
      "outputs": []
    },
    {
      "cell_type": "code",
      "source": [
        "test_inference(\" What is the status of the evacuations and the condition of those injured?\")"
      ],
      "metadata": {
        "colab": {
          "base_uri": "https://localhost:8080/",
          "height": 35
        },
        "id": "frO3mjtgfZ0N",
        "outputId": "c9c9a264-6b92-4cfb-ce88-d30fa1895619"
      },
      "execution_count": 16,
      "outputs": [
        {
          "output_type": "execute_result",
          "data": {
            "text/plain": [
              "'The evacuations are ongoing, and the condition of those injured is not yet known. The fire is still burning, and the situation is still dangerous.'"
            ],
            "application/vnd.google.colaboratory.intrinsic+json": {
              "type": "string"
            }
          },
          "metadata": {},
          "execution_count": 16
        }
      ]
    },
    {
      "cell_type": "code",
      "source": [
        "test_inference(\"Why is Rick Santorum campaigning in Iowa and what is his goal?\")"
      ],
      "metadata": {
        "colab": {
          "base_uri": "https://localhost:8080/",
          "height": 52
        },
        "id": "mvDeL-5egmmv",
        "outputId": "0ff7d5ca-776a-4c5d-c93f-6e686998ebdf"
      },
      "execution_count": 17,
      "outputs": [
        {
          "output_type": "execute_result",
          "data": {
            "text/plain": [
              "\"Rick Santorum is campaigning in Iowa to win the state's delegates, which will help him secure the nomination. He is hoping to win the state and gain momentum for his campaign.\""
            ],
            "application/vnd.google.colaboratory.intrinsic+json": {
              "type": "string"
            }
          },
          "metadata": {},
          "execution_count": 17
        }
      ]
    },
    {
      "cell_type": "code",
      "source": [
        "test_inference(\"What was the prosecution's theory on how Holly poisoned Matt?\")"
      ],
      "metadata": {
        "colab": {
          "base_uri": "https://localhost:8080/",
          "height": 52
        },
        "id": "aM-Z-SnSg_Ns",
        "outputId": "614b2faf-a75f-4e55-fed8-dad5102e0f12"
      },
      "execution_count": 18,
      "outputs": [
        {
          "output_type": "execute_result",
          "data": {
            "text/plain": [
              "\"The prosecution's theory was that Holly poisoned Matt by giving him a drink that contained a lethal dose of a drug. They argued that Holly had a motive to kill Matt, as she was in a relationship with him and had been unhappy with him.\""
            ],
            "application/vnd.google.colaboratory.intrinsic+json": {
              "type": "string"
            }
          },
          "metadata": {},
          "execution_count": 18
        }
      ]
    }
  ]
}